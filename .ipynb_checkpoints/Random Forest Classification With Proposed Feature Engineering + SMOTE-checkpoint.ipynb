{
 "cells": [
  {
   "cell_type": "markdown",
   "id": "3b74ae91",
   "metadata": {},
   "source": [
    "# Import Necessary Library and Some Useful Method"
   ]
  },
  {
   "cell_type": "code",
   "execution_count": 1,
   "id": "e161f81e",
   "metadata": {},
   "outputs": [],
   "source": [
    "import pandas as pd\n",
    "import numpy as np\n",
    "import seaborn as sb\n",
    "import matplotlib.pyplot as plt\n",
    "import datetime as dt\n",
    "\n",
    "from sklearn.model_selection import train_test_split\n",
    "from sklearn.tree import DecisionTreeClassifier\n",
    "from sklearn.tree import export_graphviz\n",
    "from sklearn.metrics import accuracy_score\n",
    "from sklearn.metrics import recall_score\n",
    "from sklearn.metrics import precision_score\n",
    "from sklearn.metrics import mean_absolute_error\n",
    "from sklearn.metrics import confusion_matrix\n",
    "\n",
    "from imblearn.over_sampling import SMOTE\n",
    "\n",
    "import itertools\n",
    "import warnings \n",
    "warnings.filterwarnings('ignore')\n",
    "warnings.filterwarnings('ignore', category=DeprecationWarning)\n",
    "from sklearn.ensemble import RandomForestClassifier\n",
    "\n",
    "RSEED = 1994"
   ]
  },
  {
   "cell_type": "code",
   "execution_count": 2,
   "id": "f47ee6e8",
   "metadata": {},
   "outputs": [],
   "source": [
    "def plot_confusion_matrix(cm, classes,\n",
    "                          normalize=False,\n",
    "                          title='Confusion matrix',\n",
    "                          cmap=plt.cm.Oranges):\n",
    "    \"\"\"\n",
    "    This function prints and plots the confusion matrix.\n",
    "    Normalization can be applied by setting `normalize=True`.\n",
    "    Source: http://scikit-learn.org/stable/auto_examples/model_selection/plot_confusion_matrix.html\n",
    "    \"\"\"\n",
    "    if normalize:\n",
    "        cm = cm.astype('float') / cm.sum(axis=1)[:, np.newaxis]\n",
    "        print(\"Normalized confusion matrix\")\n",
    "    else:\n",
    "        print('Confusion matrix, without normalization')\n",
    "\n",
    "    print(cm)\n",
    "\n",
    "    plt.figure(figsize = (10, 10))\n",
    "    plt.imshow(cm, interpolation='nearest', cmap=cmap)\n",
    "    plt.title(title, size = 24)\n",
    "    plt.colorbar(aspect=4)\n",
    "    tick_marks = np.arange(len(classes))\n",
    "    plt.xticks(tick_marks, classes, rotation=45, size = 14)\n",
    "    plt.yticks(tick_marks, classes, size = 14)\n",
    "\n",
    "    fmt = '.2f' if normalize else 'd'\n",
    "    thresh = cm.max() / 2.\n",
    "    \n",
    "    # Labeling the plot\n",
    "    for i, j in itertools.product(range(cm.shape[0]), range(cm.shape[1])):\n",
    "        plt.text(j, i, format(cm[i, j], fmt), fontsize = 20,\n",
    "                 horizontalalignment=\"center\",\n",
    "                 color=\"white\" if cm[i, j] > thresh else \"black\")\n",
    "        \n",
    "    plt.grid(None)\n",
    "    plt.tight_layout()\n",
    "    plt.ylabel('True label', size = 18)\n",
    "    plt.xlabel('Predicted label', size = 18)\n",
    "    \n",
    "def get_cols_with_no_nans(df,col_type):\n",
    "    '''\n",
    "    Arguments :\n",
    "    df : The dataframe to process\n",
    "    col_type : \n",
    "          num : to only get numerical columns with no nans\n",
    "          no_num : to only get nun-numerical columns with no nans\n",
    "          all : to get any columns with no nans    \n",
    "    '''\n",
    "    if (col_type == 'num'):\n",
    "        predictors = df.select_dtypes(exclude=['object'])\n",
    "    elif (col_type == 'no_num'):\n",
    "        predictors = df.select_dtypes(include=['object'])\n",
    "    elif (col_type == 'all'):\n",
    "        predictors = df\n",
    "    else :\n",
    "        print('Error : choose a type (num, no_num, all)')\n",
    "        return 0\n",
    "    cols_with_no_nans = []\n",
    "    for col in predictors.columns:\n",
    "        if not df[col].isnull().any():\n",
    "            cols_with_no_nans.append(col)\n",
    "    return cols_with_no_nans\n",
    "\n",
    "def calculate_sensitivity_specificity(y_test, y_pred_test):\n",
    "    # Note: More parameters are defined than necessary. \n",
    "    # This would allow return of other measures other than sensitivity and specificity\n",
    "    \n",
    "    # Get true/false for whether a breach actually occurred\n",
    "    actual_pos = y_test == 1\n",
    "    actual_neg = y_test == 0\n",
    "    \n",
    "    # Get true and false test (true test match actual, false tests differ from actual)\n",
    "    true_pos = (y_pred_test == 1) & (actual_pos)\n",
    "    false_pos = (y_pred_test == 1) & (actual_neg)\n",
    "    true_neg = (y_pred_test == 0) & (actual_neg)\n",
    "    false_neg = (y_pred_test == 0) & (actual_pos)\n",
    "    \n",
    "    # Calculate accuracy\n",
    "    accuracy = np.mean(y_pred_test == y_test) * 100\n",
    "    \n",
    "    # Calculate sensitivity and specificity\n",
    "    sensitivity = np.sum(true_pos) / np.sum(actual_pos) * 100\n",
    "    specificity = np.sum(true_neg) / np.sum(actual_neg) * 100\n",
    "    \n",
    "    return sensitivity, specificity, accuracy\n",
    "\n",
    "def plot_2d_space(X, y, label='Classes'):   \n",
    "    colors = ['#1F77B4', '#FF7F0E']\n",
    "    markers = ['o', 's']\n",
    "    for l, c, m in zip(np.unique(y), colors, markers):\n",
    "        plt.scatter(\n",
    "            X[y==l, 0],\n",
    "            X[y==l, 1],\n",
    "            c=c, label=l, marker=m\n",
    "        )\n",
    "    plt.title(label)\n",
    "    plt.legend(loc='upper right')\n",
    "    plt.show()"
   ]
  },
  {
   "cell_type": "markdown",
   "id": "b2be3234",
   "metadata": {},
   "source": [
    "# Dataset Information and Drop All Feature Engineering\n",
    "(Without Feature Engineering Experiment)"
   ]
  },
  {
   "cell_type": "code",
   "execution_count": 3,
   "id": "de7fefb8",
   "metadata": {},
   "outputs": [],
   "source": [
    "df = pd.read_csv(\"./Dataset/FeatureEngineeredData.csv\")\n",
    "df = df.drop(['PDATE','PONO','MIXNO','BATCHNO','M1T10','M1T90','M1ML','M1MH','Hard','T10RE','T90RE','D2MNRE','D2MN','HardRE'], axis=1)\n",
    "df = df.drop(['ram_closedtime','ram_closedtimemax','ram_opentime','ram_opentimemax'], axis=1)\n",
    "df = df.drop(['temp_avg_when_ram_closed','temp_avg_when_ram_open','temp_max_when_ram_closed','temp_max_when_ram_open','temp_max_minus_min_when_ram_closed','tempinc_avg_when_ram_closed','heat_flux_when_ram_all','heat_flux_when_ram_closed','heat_flux_when_ram_open'], axis=1)\n",
    "df = df.drop(['tempinc_max_when_ram_closed','volt_avg_when_ram_closed','volt_avg_when_ram_open','volt_max_when_ram_closed','volt_max_when_ram_open','volt_max_minus_min','physics_flux_all','physics_flux_when_ram_closed','physics_flux_when_ram_open'], axis=1)"
   ]
  },
  {
   "cell_type": "code",
   "execution_count": 4,
   "id": "03dc46d4",
   "metadata": {},
   "outputs": [],
   "source": [
    "#LABELING\n",
    "df[\"RESULT\"] = df[\"RESULT\"].astype('category')\n",
    "df[\"RESULT\"] = df[\"RESULT\"].cat.codes"
   ]
  },
  {
   "cell_type": "code",
   "execution_count": 5,
   "id": "3177af64",
   "metadata": {},
   "outputs": [
    {
     "data": {
      "text/html": [
       "<div>\n",
       "<style scoped>\n",
       "    .dataframe tbody tr th:only-of-type {\n",
       "        vertical-align: middle;\n",
       "    }\n",
       "\n",
       "    .dataframe tbody tr th {\n",
       "        vertical-align: top;\n",
       "    }\n",
       "\n",
       "    .dataframe thead th {\n",
       "        text-align: right;\n",
       "    }\n",
       "</style>\n",
       "<table border=\"1\" class=\"dataframe\">\n",
       "  <thead>\n",
       "    <tr style=\"text-align: right;\">\n",
       "      <th></th>\n",
       "      <th>RESULT</th>\n",
       "      <th>ram_count_closed</th>\n",
       "      <th>temp_avg_all</th>\n",
       "      <th>volt_avg_all</th>\n",
       "    </tr>\n",
       "  </thead>\n",
       "  <tbody>\n",
       "    <tr>\n",
       "      <th>0</th>\n",
       "      <td>0</td>\n",
       "      <td>5</td>\n",
       "      <td>78.855090</td>\n",
       "      <td>121.808383</td>\n",
       "    </tr>\n",
       "    <tr>\n",
       "      <th>1</th>\n",
       "      <td>0</td>\n",
       "      <td>5</td>\n",
       "      <td>81.124332</td>\n",
       "      <td>109.047478</td>\n",
       "    </tr>\n",
       "    <tr>\n",
       "      <th>2</th>\n",
       "      <td>0</td>\n",
       "      <td>5</td>\n",
       "      <td>82.660182</td>\n",
       "      <td>114.595745</td>\n",
       "    </tr>\n",
       "    <tr>\n",
       "      <th>3</th>\n",
       "      <td>0</td>\n",
       "      <td>5</td>\n",
       "      <td>82.365015</td>\n",
       "      <td>114.876161</td>\n",
       "    </tr>\n",
       "    <tr>\n",
       "      <th>4</th>\n",
       "      <td>0</td>\n",
       "      <td>5</td>\n",
       "      <td>87.455108</td>\n",
       "      <td>117.934985</td>\n",
       "    </tr>\n",
       "    <tr>\n",
       "      <th>...</th>\n",
       "      <td>...</td>\n",
       "      <td>...</td>\n",
       "      <td>...</td>\n",
       "      <td>...</td>\n",
       "    </tr>\n",
       "    <tr>\n",
       "      <th>2909</th>\n",
       "      <td>1</td>\n",
       "      <td>5</td>\n",
       "      <td>60.531579</td>\n",
       "      <td>185.958947</td>\n",
       "    </tr>\n",
       "    <tr>\n",
       "      <th>2910</th>\n",
       "      <td>1</td>\n",
       "      <td>5</td>\n",
       "      <td>64.655527</td>\n",
       "      <td>169.270951</td>\n",
       "    </tr>\n",
       "    <tr>\n",
       "      <th>2911</th>\n",
       "      <td>1</td>\n",
       "      <td>5</td>\n",
       "      <td>66.239362</td>\n",
       "      <td>167.594681</td>\n",
       "    </tr>\n",
       "    <tr>\n",
       "      <th>2912</th>\n",
       "      <td>1</td>\n",
       "      <td>5</td>\n",
       "      <td>65.887728</td>\n",
       "      <td>174.090862</td>\n",
       "    </tr>\n",
       "    <tr>\n",
       "      <th>2913</th>\n",
       "      <td>1</td>\n",
       "      <td>4</td>\n",
       "      <td>68.860104</td>\n",
       "      <td>177.452332</td>\n",
       "    </tr>\n",
       "  </tbody>\n",
       "</table>\n",
       "<p>2914 rows × 4 columns</p>\n",
       "</div>"
      ],
      "text/plain": [
       "      RESULT  ram_count_closed  temp_avg_all  volt_avg_all\n",
       "0          0                 5     78.855090    121.808383\n",
       "1          0                 5     81.124332    109.047478\n",
       "2          0                 5     82.660182    114.595745\n",
       "3          0                 5     82.365015    114.876161\n",
       "4          0                 5     87.455108    117.934985\n",
       "...      ...               ...           ...           ...\n",
       "2909       1                 5     60.531579    185.958947\n",
       "2910       1                 5     64.655527    169.270951\n",
       "2911       1                 5     66.239362    167.594681\n",
       "2912       1                 5     65.887728    174.090862\n",
       "2913       1                 4     68.860104    177.452332\n",
       "\n",
       "[2914 rows x 4 columns]"
      ]
     },
     "execution_count": 5,
     "metadata": {},
     "output_type": "execute_result"
    }
   ],
   "source": [
    "#Data Without Feature Engineering\n",
    "df"
   ]
  },
  {
   "cell_type": "code",
   "execution_count": 6,
   "id": "ccca0d83",
   "metadata": {},
   "outputs": [
    {
     "name": "stdout",
     "output_type": "stream",
     "text": [
      "Number of numerical columns with no nan values : 4\n",
      "Number of nun-numerical columns with no nan values : 0\n"
     ]
    },
    {
     "data": {
      "image/png": "[encoded data removed]",
      "text/plain": [
       "<Figure size 864x720 with 4 Axes>"
      ]
     },
     "metadata": {
      "needs_background": "light"
     },
     "output_type": "display_data"
    }
   ],
   "source": [
    "num_cols = get_cols_with_no_nans(df , 'num')\n",
    "cat_cols = get_cols_with_no_nans(df , 'no_num')\n",
    "print ('Number of numerical columns with no nan values :',len(num_cols))\n",
    "print ('Number of nun-numerical columns with no nan values :',len(cat_cols))\n",
    "df = df[num_cols + cat_cols]\n",
    "df.hist(figsize = (12,10))\n",
    "plt.show()"
   ]
  },
  {
   "cell_type": "code",
   "execution_count": 7,
   "id": "3a642b23",
   "metadata": {},
   "outputs": [],
   "source": [
    "from sklearn.model_selection import train_test_split\n",
    "\n",
    "# Extract the labels\n",
    "labels = np.array(df.pop('RESULT'))\n",
    "\n",
    "# Saving feature names for later use\n",
    "feature_list = df.columns\n",
    "# Convert to numpy array\n",
    "features = np.array(df)\n",
    "\n",
    "# 30% examples in test data\n",
    "train_features, test_features, train_labels, test_labels = train_test_split(\n",
    "    features, labels, test_size = 0.30, random_state = RSEED)"
   ]
  },
  {
   "cell_type": "code",
   "execution_count": 8,
   "id": "decb845d",
   "metadata": {},
   "outputs": [],
   "source": [
    "# fit model to training data\n",
    "model = RandomForestClassifier(max_depth=10, random_state=RSEED)\n",
    "model.fit(train_features, train_labels)\n",
    "# make predictions for test data\n",
    "y_pred = model.predict(test_features)\n",
    "predictions = [round(value) for value in y_pred]"
   ]
  },
  {
   "cell_type": "markdown",
   "id": "16eece59",
   "metadata": {},
   "source": [
    "# Results Without Feature Engineering Technique"
   ]
  },
  {
   "cell_type": "code",
   "execution_count": 9,
   "id": "4fee662b",
   "metadata": {},
   "outputs": [
    {
     "name": "stdout",
     "output_type": "stream",
     "text": [
      "Confusion matrix, without normalization\n",
      "[[383  47]\n",
      " [ 64 381]]\n",
      "Accuracy: 87.31%\n",
      "sensitivity: 85.62%\n",
      "Precision: 89.07%\n",
      "F1-score: 87.29%\n"
     ]
    },
    {
     "data": {
      "image/png": "[encoded data removed]",
      "text/plain": [
       "<Figure size 720x720 with 2 Axes>"
      ]
     },
     "metadata": {
      "needs_background": "light"
     },
     "output_type": "display_data"
    }
   ],
   "source": [
    "calculate_sensitivity_specificity(test_labels, y_pred)\n",
    "cm = confusion_matrix(test_labels, y_pred)\n",
    "plot_confusion_matrix(cm, classes = ['Not Good Products', 'Good Products'],\n",
    "                      title = 'RESULT')\n",
    "accuracy = accuracy_score(test_labels, y_pred)\n",
    "recall = recall_score(test_labels, y_pred)\n",
    "precision = precision_score(test_labels, y_pred)\n",
    "sensitivity = calculate_sensitivity_specificity(test_labels, y_pred)[0]\n",
    "specificity = calculate_sensitivity_specificity(test_labels, y_pred)[1]\n",
    "F1 = 2 * (precision * recall) / (precision + recall)\n",
    "print(\"Accuracy: %.2f%%\" % (accuracy * 100.0))\n",
    "print(\"sensitivity: %.2f%%\" % (sensitivity))\n",
    "print(\"Precision: %.2f%%\" % (specificity))\n",
    "print(\"F1-score: %.2f%%\" % (F1 * 100.0))"
   ]
  },
  {
   "cell_type": "markdown",
   "id": "f1ceafb2",
   "metadata": {},
   "source": [
    "# Implementation of SMOTE"
   ]
  },
  {
   "cell_type": "code",
   "execution_count": 10,
   "id": "ce62a72e",
   "metadata": {},
   "outputs": [
    {
     "data": {
      "image/png": "[encoded data removed]",
      "text/plain": [
       "<Figure size 432x288 with 1 Axes>"
      ]
     },
     "metadata": {
      "needs_background": "light"
     },
     "output_type": "display_data"
    },
    {
     "data": {
      "text/plain": [
       "array([1073, 1073], dtype=int64)"
      ]
     },
     "execution_count": 10,
     "metadata": {},
     "output_type": "execute_result"
    }
   ],
   "source": [
    "smote = SMOTE(sampling_strategy='minority', random_state=RSEED)\n",
    "train_features_smote, train_labels_smote = smote.fit_resample(train_features, train_labels)\n",
    "\n",
    "plot_2d_space(train_features_smote, train_labels_smote, 'SMOTE over-sampling')\n",
    "unique_elements, counts_elements = np.unique(train_labels_smote, return_counts=True)\n",
    "counts_elements"
   ]
  },
  {
   "cell_type": "code",
   "execution_count": 11,
   "id": "dbc4337c",
   "metadata": {},
   "outputs": [],
   "source": [
    "# fit model no training data\n",
    "model = RandomForestClassifier(max_depth=10, random_state=RSEED)\n",
    "model.fit(train_features_smote, train_labels_smote)\n",
    "# make predictions for test data\n",
    "y_pred = model.predict(test_features)\n",
    "predictions = [round(value) for value in y_pred]"
   ]
  },
  {
   "cell_type": "code",
   "execution_count": 12,
   "id": "0a6ed941",
   "metadata": {},
   "outputs": [
    {
     "name": "stdout",
     "output_type": "stream",
     "text": [
      "[Sensitivity],[Specificity],[Accuracy]\n"
     ]
    },
    {
     "data": {
      "text/plain": [
       "(86.51685393258427, 89.53488372093024, 88.0)"
      ]
     },
     "execution_count": 12,
     "metadata": {},
     "output_type": "execute_result"
    }
   ],
   "source": [
    "print(\"[Sensitivity],[Specificity],[Accuracy]\")\n",
    "calculate_sensitivity_specificity(test_labels, y_pred)"
   ]
  },
  {
   "cell_type": "code",
   "execution_count": 13,
   "id": "42e62955",
   "metadata": {},
   "outputs": [
    {
     "name": "stdout",
     "output_type": "stream",
     "text": [
      "Confusion matrix, without normalization\n",
      "[[385  45]\n",
      " [ 60 385]]\n",
      "Accuracy: 88.00%\n",
      "Recall: 86.52%\n",
      "Precision: 89.53%\n",
      "F1: 88.00%\n"
     ]
    },
    {
     "data": {
      "image/png": "[encoded data removed]",
      "text/plain": [
       "<Figure size 720x720 with 2 Axes>"
      ]
     },
     "metadata": {
      "needs_background": "light"
     },
     "output_type": "display_data"
    }
   ],
   "source": [
    "cm = confusion_matrix(test_labels, predictions)\n",
    "plot_confusion_matrix(cm, classes = ['Not Good Products', 'Good Products'],\n",
    "                      title = 'RESULT')\n",
    "accuracy = accuracy_score(test_labels, predictions)\n",
    "recall = recall_score(test_labels, predictions)\n",
    "precision = precision_score(test_labels, predictions)\n",
    "F1 = 2 * (precision * recall) / (precision + recall)\n",
    "print(\"Accuracy: %.2f%%\" % (accuracy * 100.0))\n",
    "print(\"Recall: %.2f%%\" % (recall * 100.0))\n",
    "print(\"Precision: %.2f%%\" % (precision * 100.0))\n",
    "print(\"F1: %.2f%%\" % (F1 * 100.0))"
   ]
  },
  {
   "cell_type": "code",
   "execution_count": null,
   "id": "529566c1",
   "metadata": {},
   "outputs": [],
   "source": []
  }
 ],
 "metadata": {
  "kernelspec": {
   "display_name": "Python 3 (ipykernel)",
   "language": "python",
   "name": "python3"
  },
  "language_info": {
   "codemirror_mode": {
    "name": "ipython",
    "version": 3
   },
   "file_extension": ".py",
   "mimetype": "text/x-python",
   "name": "python",
   "nbconvert_exporter": "python",
   "pygments_lexer": "ipython3",
   "version": "3.8.13"
  }
 },
 "nbformat": 4,
 "nbformat_minor": 5
}
